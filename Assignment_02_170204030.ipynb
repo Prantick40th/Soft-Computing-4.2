{
  "nbformat": 4,
  "nbformat_minor": 0,
  "metadata": {
    "colab": {
      "name": "asm2final test.ipynb",
      "provenance": [],
      "collapsed_sections": [
        "u-QKKpIpBpoB"
      ]
    },
    "kernelspec": {
      "name": "python3",
      "display_name": "Python 3"
    },
    "language_info": {
      "name": "python"
    }
  },
  "cells": [
    {
      "cell_type": "markdown",
      "source": [
        "# **Assignmnet 02**\n"
      ],
      "metadata": {
        "id": "VvxBDUQW_VJq"
      }
    },
    {
      "cell_type": "markdown",
      "source": [
        "#**Libraries and Dataset**\n"
      ],
      "metadata": {
        "id": "EyzTFTnO_XRD"
      }
    },
    {
      "cell_type": "code",
      "source": [
        "import numpy as np\n",
        "import pandas as pd\n",
        "\n",
        "import torch\n",
        "from torch import nn\n",
        "import torch.nn.functional as F\n",
        "import torch.optim as optim\n",
        "from torch.utils.data import DataLoader, Dataset\n",
        "\n",
        "import torchvision\n",
        "from torch.utils.data import TensorDataset,DataLoader\n",
        "from torch import optim\n",
        "import torch.utils.data as tdata\n",
        "import os\n",
        "import cv2\n",
        "import matplotlib.pyplot as plt\n",
        "from sklearn.metrics import classification_report\n",
        "\n",
        "from sklearn import model_selection\n",
        "from sklearn.metrics import accuracy_score, confusion_matrix, precision_score, recall_score"
      ],
      "metadata": {
        "id": "XBvI2yn2_cDL"
      },
      "execution_count": 1,
      "outputs": []
    },
    {
      "cell_type": "code",
      "source": [
        "from sklearn.feature_extraction.text import CountVectorizer\n",
        "from sklearn.feature_extraction.text import TfidfVectorizer\n",
        "from sklearn.preprocessing import OneHotEncoder"
      ],
      "metadata": {
        "id": "NiGfrstECBze"
      },
      "execution_count": 2,
      "outputs": []
    },
    {
      "cell_type": "code",
      "source": [
        "from google.colab import drive\n",
        "drive.mount('/content/drive')"
      ],
      "metadata": {
        "colab": {
          "base_uri": "https://localhost:8080/"
        },
        "id": "Fu8KnISW_tkl",
        "outputId": "a146244c-1b63-4855-ed80-db469e180064"
      },
      "execution_count": 3,
      "outputs": [
        {
          "output_type": "stream",
          "name": "stdout",
          "text": [
            "Drive already mounted at /content/drive; to attempt to forcibly remount, call drive.mount(\"/content/drive\", force_remount=True).\n"
          ]
        }
      ]
    },
    {
      "cell_type": "code",
      "source": [
        "df = pd.read_csv(\"/content/drive/MyDrive/Dataset.csv\")\n",
        "df"
      ],
      "metadata": {
        "colab": {
          "base_uri": "https://localhost:8080/",
          "height": 424
        },
        "id": "CInU47fZ_9gb",
        "outputId": "06df71c1-1742-411e-bf7c-5c6749729116"
      },
      "execution_count": 4,
      "outputs": [
        {
          "output_type": "execute_result",
          "data": {
            "text/html": [
              "\n",
              "  <div id=\"df-9f1172c8-61e4-4380-b7c6-693788405b9b\">\n",
              "    <div class=\"colab-df-container\">\n",
              "      <div>\n",
              "<style scoped>\n",
              "    .dataframe tbody tr th:only-of-type {\n",
              "        vertical-align: middle;\n",
              "    }\n",
              "\n",
              "    .dataframe tbody tr th {\n",
              "        vertical-align: top;\n",
              "    }\n",
              "\n",
              "    .dataframe thead th {\n",
              "        text-align: right;\n",
              "    }\n",
              "</style>\n",
              "<table border=\"1\" class=\"dataframe\">\n",
              "  <thead>\n",
              "    <tr style=\"text-align: right;\">\n",
              "      <th></th>\n",
              "      <th>Text</th>\n",
              "      <th>Sentiment</th>\n",
              "    </tr>\n",
              "  </thead>\n",
              "  <tbody>\n",
              "    <tr>\n",
              "      <th>0</th>\n",
              "      <td>Kickers on my watchlist XIDE TIT SOQ PNK CPW B...</td>\n",
              "      <td>1</td>\n",
              "    </tr>\n",
              "    <tr>\n",
              "      <th>1</th>\n",
              "      <td>user: AAP MOVIE. 55% return for the FEA/GEED i...</td>\n",
              "      <td>1</td>\n",
              "    </tr>\n",
              "    <tr>\n",
              "      <th>2</th>\n",
              "      <td>user I'd be afraid to short AMZN - they are lo...</td>\n",
              "      <td>1</td>\n",
              "    </tr>\n",
              "    <tr>\n",
              "      <th>3</th>\n",
              "      <td>MNTA Over 12.00</td>\n",
              "      <td>1</td>\n",
              "    </tr>\n",
              "    <tr>\n",
              "      <th>4</th>\n",
              "      <td>OI  Over 21.37</td>\n",
              "      <td>1</td>\n",
              "    </tr>\n",
              "    <tr>\n",
              "      <th>...</th>\n",
              "      <td>...</td>\n",
              "      <td>...</td>\n",
              "    </tr>\n",
              "    <tr>\n",
              "      <th>5786</th>\n",
              "      <td>Industry body CII said #discoms are likely to ...</td>\n",
              "      <td>-1</td>\n",
              "    </tr>\n",
              "    <tr>\n",
              "      <th>5787</th>\n",
              "      <td>#Gold prices slip below Rs 46,000 as #investor...</td>\n",
              "      <td>-1</td>\n",
              "    </tr>\n",
              "    <tr>\n",
              "      <th>5788</th>\n",
              "      <td>Workers at Bajaj Auto have agreed to a 10% wag...</td>\n",
              "      <td>1</td>\n",
              "    </tr>\n",
              "    <tr>\n",
              "      <th>5789</th>\n",
              "      <td>#Sharemarket LIVE: Sensex off day’s high, up 6...</td>\n",
              "      <td>1</td>\n",
              "    </tr>\n",
              "    <tr>\n",
              "      <th>5790</th>\n",
              "      <td>#Sensex, #Nifty climb off day's highs, still u...</td>\n",
              "      <td>1</td>\n",
              "    </tr>\n",
              "  </tbody>\n",
              "</table>\n",
              "<p>5791 rows × 2 columns</p>\n",
              "</div>\n",
              "      <button class=\"colab-df-convert\" onclick=\"convertToInteractive('df-9f1172c8-61e4-4380-b7c6-693788405b9b')\"\n",
              "              title=\"Convert this dataframe to an interactive table.\"\n",
              "              style=\"display:none;\">\n",
              "        \n",
              "  <svg xmlns=\"http://www.w3.org/2000/svg\" height=\"24px\"viewBox=\"0 0 24 24\"\n",
              "       width=\"24px\">\n",
              "    <path d=\"M0 0h24v24H0V0z\" fill=\"none\"/>\n",
              "    <path d=\"M18.56 5.44l.94 2.06.94-2.06 2.06-.94-2.06-.94-.94-2.06-.94 2.06-2.06.94zm-11 1L8.5 8.5l.94-2.06 2.06-.94-2.06-.94L8.5 2.5l-.94 2.06-2.06.94zm10 10l.94 2.06.94-2.06 2.06-.94-2.06-.94-.94-2.06-.94 2.06-2.06.94z\"/><path d=\"M17.41 7.96l-1.37-1.37c-.4-.4-.92-.59-1.43-.59-.52 0-1.04.2-1.43.59L10.3 9.45l-7.72 7.72c-.78.78-.78 2.05 0 2.83L4 21.41c.39.39.9.59 1.41.59.51 0 1.02-.2 1.41-.59l7.78-7.78 2.81-2.81c.8-.78.8-2.07 0-2.86zM5.41 20L4 18.59l7.72-7.72 1.47 1.35L5.41 20z\"/>\n",
              "  </svg>\n",
              "      </button>\n",
              "      \n",
              "  <style>\n",
              "    .colab-df-container {\n",
              "      display:flex;\n",
              "      flex-wrap:wrap;\n",
              "      gap: 12px;\n",
              "    }\n",
              "\n",
              "    .colab-df-convert {\n",
              "      background-color: #E8F0FE;\n",
              "      border: none;\n",
              "      border-radius: 50%;\n",
              "      cursor: pointer;\n",
              "      display: none;\n",
              "      fill: #1967D2;\n",
              "      height: 32px;\n",
              "      padding: 0 0 0 0;\n",
              "      width: 32px;\n",
              "    }\n",
              "\n",
              "    .colab-df-convert:hover {\n",
              "      background-color: #E2EBFA;\n",
              "      box-shadow: 0px 1px 2px rgba(60, 64, 67, 0.3), 0px 1px 3px 1px rgba(60, 64, 67, 0.15);\n",
              "      fill: #174EA6;\n",
              "    }\n",
              "\n",
              "    [theme=dark] .colab-df-convert {\n",
              "      background-color: #3B4455;\n",
              "      fill: #D2E3FC;\n",
              "    }\n",
              "\n",
              "    [theme=dark] .colab-df-convert:hover {\n",
              "      background-color: #434B5C;\n",
              "      box-shadow: 0px 1px 3px 1px rgba(0, 0, 0, 0.15);\n",
              "      filter: drop-shadow(0px 1px 2px rgba(0, 0, 0, 0.3));\n",
              "      fill: #FFFFFF;\n",
              "    }\n",
              "  </style>\n",
              "\n",
              "      <script>\n",
              "        const buttonEl =\n",
              "          document.querySelector('#df-9f1172c8-61e4-4380-b7c6-693788405b9b button.colab-df-convert');\n",
              "        buttonEl.style.display =\n",
              "          google.colab.kernel.accessAllowed ? 'block' : 'none';\n",
              "\n",
              "        async function convertToInteractive(key) {\n",
              "          const element = document.querySelector('#df-9f1172c8-61e4-4380-b7c6-693788405b9b');\n",
              "          const dataTable =\n",
              "            await google.colab.kernel.invokeFunction('convertToInteractive',\n",
              "                                                     [key], {});\n",
              "          if (!dataTable) return;\n",
              "\n",
              "          const docLinkHtml = 'Like what you see? Visit the ' +\n",
              "            '<a target=\"_blank\" href=https://colab.research.google.com/notebooks/data_table.ipynb>data table notebook</a>'\n",
              "            + ' to learn more about interactive tables.';\n",
              "          element.innerHTML = '';\n",
              "          dataTable['output_type'] = 'display_data';\n",
              "          await google.colab.output.renderOutput(dataTable, element);\n",
              "          const docLink = document.createElement('div');\n",
              "          docLink.innerHTML = docLinkHtml;\n",
              "          element.appendChild(docLink);\n",
              "        }\n",
              "      </script>\n",
              "    </div>\n",
              "  </div>\n",
              "  "
            ],
            "text/plain": [
              "                                                   Text  Sentiment\n",
              "0     Kickers on my watchlist XIDE TIT SOQ PNK CPW B...          1\n",
              "1     user: AAP MOVIE. 55% return for the FEA/GEED i...          1\n",
              "2     user I'd be afraid to short AMZN - they are lo...          1\n",
              "3                                     MNTA Over 12.00            1\n",
              "4                                      OI  Over 21.37            1\n",
              "...                                                 ...        ...\n",
              "5786  Industry body CII said #discoms are likely to ...         -1\n",
              "5787  #Gold prices slip below Rs 46,000 as #investor...         -1\n",
              "5788  Workers at Bajaj Auto have agreed to a 10% wag...          1\n",
              "5789  #Sharemarket LIVE: Sensex off day’s high, up 6...          1\n",
              "5790  #Sensex, #Nifty climb off day's highs, still u...          1\n",
              "\n",
              "[5791 rows x 2 columns]"
            ]
          },
          "metadata": {},
          "execution_count": 4
        }
      ]
    },
    {
      "cell_type": "code",
      "source": [
        "df.describe()"
      ],
      "metadata": {
        "colab": {
          "base_uri": "https://localhost:8080/",
          "height": 300
        },
        "id": "281iumFMAmeJ",
        "outputId": "86c8fc55-9bb6-4a71-92dd-5df9dca299a4"
      },
      "execution_count": 5,
      "outputs": [
        {
          "output_type": "execute_result",
          "data": {
            "text/html": [
              "\n",
              "  <div id=\"df-d68be6aa-0886-4d23-a750-63090e2282a6\">\n",
              "    <div class=\"colab-df-container\">\n",
              "      <div>\n",
              "<style scoped>\n",
              "    .dataframe tbody tr th:only-of-type {\n",
              "        vertical-align: middle;\n",
              "    }\n",
              "\n",
              "    .dataframe tbody tr th {\n",
              "        vertical-align: top;\n",
              "    }\n",
              "\n",
              "    .dataframe thead th {\n",
              "        text-align: right;\n",
              "    }\n",
              "</style>\n",
              "<table border=\"1\" class=\"dataframe\">\n",
              "  <thead>\n",
              "    <tr style=\"text-align: right;\">\n",
              "      <th></th>\n",
              "      <th>Sentiment</th>\n",
              "    </tr>\n",
              "  </thead>\n",
              "  <tbody>\n",
              "    <tr>\n",
              "      <th>count</th>\n",
              "      <td>5791.000000</td>\n",
              "    </tr>\n",
              "    <tr>\n",
              "      <th>mean</th>\n",
              "      <td>0.272664</td>\n",
              "    </tr>\n",
              "    <tr>\n",
              "      <th>std</th>\n",
              "      <td>0.962192</td>\n",
              "    </tr>\n",
              "    <tr>\n",
              "      <th>min</th>\n",
              "      <td>-1.000000</td>\n",
              "    </tr>\n",
              "    <tr>\n",
              "      <th>25%</th>\n",
              "      <td>-1.000000</td>\n",
              "    </tr>\n",
              "    <tr>\n",
              "      <th>50%</th>\n",
              "      <td>1.000000</td>\n",
              "    </tr>\n",
              "    <tr>\n",
              "      <th>75%</th>\n",
              "      <td>1.000000</td>\n",
              "    </tr>\n",
              "    <tr>\n",
              "      <th>max</th>\n",
              "      <td>1.000000</td>\n",
              "    </tr>\n",
              "  </tbody>\n",
              "</table>\n",
              "</div>\n",
              "      <button class=\"colab-df-convert\" onclick=\"convertToInteractive('df-d68be6aa-0886-4d23-a750-63090e2282a6')\"\n",
              "              title=\"Convert this dataframe to an interactive table.\"\n",
              "              style=\"display:none;\">\n",
              "        \n",
              "  <svg xmlns=\"http://www.w3.org/2000/svg\" height=\"24px\"viewBox=\"0 0 24 24\"\n",
              "       width=\"24px\">\n",
              "    <path d=\"M0 0h24v24H0V0z\" fill=\"none\"/>\n",
              "    <path d=\"M18.56 5.44l.94 2.06.94-2.06 2.06-.94-2.06-.94-.94-2.06-.94 2.06-2.06.94zm-11 1L8.5 8.5l.94-2.06 2.06-.94-2.06-.94L8.5 2.5l-.94 2.06-2.06.94zm10 10l.94 2.06.94-2.06 2.06-.94-2.06-.94-.94-2.06-.94 2.06-2.06.94z\"/><path d=\"M17.41 7.96l-1.37-1.37c-.4-.4-.92-.59-1.43-.59-.52 0-1.04.2-1.43.59L10.3 9.45l-7.72 7.72c-.78.78-.78 2.05 0 2.83L4 21.41c.39.39.9.59 1.41.59.51 0 1.02-.2 1.41-.59l7.78-7.78 2.81-2.81c.8-.78.8-2.07 0-2.86zM5.41 20L4 18.59l7.72-7.72 1.47 1.35L5.41 20z\"/>\n",
              "  </svg>\n",
              "      </button>\n",
              "      \n",
              "  <style>\n",
              "    .colab-df-container {\n",
              "      display:flex;\n",
              "      flex-wrap:wrap;\n",
              "      gap: 12px;\n",
              "    }\n",
              "\n",
              "    .colab-df-convert {\n",
              "      background-color: #E8F0FE;\n",
              "      border: none;\n",
              "      border-radius: 50%;\n",
              "      cursor: pointer;\n",
              "      display: none;\n",
              "      fill: #1967D2;\n",
              "      height: 32px;\n",
              "      padding: 0 0 0 0;\n",
              "      width: 32px;\n",
              "    }\n",
              "\n",
              "    .colab-df-convert:hover {\n",
              "      background-color: #E2EBFA;\n",
              "      box-shadow: 0px 1px 2px rgba(60, 64, 67, 0.3), 0px 1px 3px 1px rgba(60, 64, 67, 0.15);\n",
              "      fill: #174EA6;\n",
              "    }\n",
              "\n",
              "    [theme=dark] .colab-df-convert {\n",
              "      background-color: #3B4455;\n",
              "      fill: #D2E3FC;\n",
              "    }\n",
              "\n",
              "    [theme=dark] .colab-df-convert:hover {\n",
              "      background-color: #434B5C;\n",
              "      box-shadow: 0px 1px 3px 1px rgba(0, 0, 0, 0.15);\n",
              "      filter: drop-shadow(0px 1px 2px rgba(0, 0, 0, 0.3));\n",
              "      fill: #FFFFFF;\n",
              "    }\n",
              "  </style>\n",
              "\n",
              "      <script>\n",
              "        const buttonEl =\n",
              "          document.querySelector('#df-d68be6aa-0886-4d23-a750-63090e2282a6 button.colab-df-convert');\n",
              "        buttonEl.style.display =\n",
              "          google.colab.kernel.accessAllowed ? 'block' : 'none';\n",
              "\n",
              "        async function convertToInteractive(key) {\n",
              "          const element = document.querySelector('#df-d68be6aa-0886-4d23-a750-63090e2282a6');\n",
              "          const dataTable =\n",
              "            await google.colab.kernel.invokeFunction('convertToInteractive',\n",
              "                                                     [key], {});\n",
              "          if (!dataTable) return;\n",
              "\n",
              "          const docLinkHtml = 'Like what you see? Visit the ' +\n",
              "            '<a target=\"_blank\" href=https://colab.research.google.com/notebooks/data_table.ipynb>data table notebook</a>'\n",
              "            + ' to learn more about interactive tables.';\n",
              "          element.innerHTML = '';\n",
              "          dataTable['output_type'] = 'display_data';\n",
              "          await google.colab.output.renderOutput(dataTable, element);\n",
              "          const docLink = document.createElement('div');\n",
              "          docLink.innerHTML = docLinkHtml;\n",
              "          element.appendChild(docLink);\n",
              "        }\n",
              "      </script>\n",
              "    </div>\n",
              "  </div>\n",
              "  "
            ],
            "text/plain": [
              "         Sentiment\n",
              "count  5791.000000\n",
              "mean      0.272664\n",
              "std       0.962192\n",
              "min      -1.000000\n",
              "25%      -1.000000\n",
              "50%       1.000000\n",
              "75%       1.000000\n",
              "max       1.000000"
            ]
          },
          "metadata": {},
          "execution_count": 5
        }
      ]
    },
    {
      "cell_type": "code",
      "source": [
        "positives = df['Sentiment'][df.Sentiment == 1 ]\n",
        "negatives = df['Sentiment'][df.Sentiment == -1 ]\n",
        "\n",
        "print('Total length:         {}'.format(df.shape[0]))\n",
        "print('positve  sentences:   {}'.format(len(positives)))\n",
        "print('negative  sentences : {}'.format(len(negatives)))"
      ],
      "metadata": {
        "colab": {
          "base_uri": "https://localhost:8080/"
        },
        "id": "98yaNsf3AnwU",
        "outputId": "e38022ef-17b5-4b1a-a556-c61b12376356"
      },
      "execution_count": 6,
      "outputs": [
        {
          "output_type": "stream",
          "name": "stdout",
          "text": [
            "Total length:         5791\n",
            "positve  sentences:   3685\n",
            "negative  sentences : 2106\n"
          ]
        }
      ]
    },
    {
      "cell_type": "code",
      "source": [
        "import seaborn as sns\n",
        "sns.countplot(df['Sentiment'])"
      ],
      "metadata": {
        "colab": {
          "base_uri": "https://localhost:8080/",
          "height": 351
        },
        "id": "8z8FfoHJAwW_",
        "outputId": "aa8e7f16-c533-4cff-c6db-fa79c5610a9f"
      },
      "execution_count": 7,
      "outputs": [
        {
          "output_type": "stream",
          "name": "stderr",
          "text": [
            "/usr/local/lib/python3.7/dist-packages/seaborn/_decorators.py:43: FutureWarning: Pass the following variable as a keyword arg: x. From version 0.12, the only valid positional argument will be `data`, and passing other arguments without an explicit keyword will result in an error or misinterpretation.\n",
            "  FutureWarning\n"
          ]
        },
        {
          "output_type": "execute_result",
          "data": {
            "text/plain": [
              "<matplotlib.axes._subplots.AxesSubplot at 0x7f3b9a279410>"
            ]
          },
          "metadata": {},
          "execution_count": 7
        },
        {
          "output_type": "display_data",
          "data": {
            "image/png": "[encoded data removed]",
            "text/plain": [
              "<Figure size 432x288 with 1 Axes>"
            ]
          },
          "metadata": {
            "needs_background": "light"
          }
        }
      ]
    },
    {
      "cell_type": "markdown",
      "source": [
        "#**Pre-processing Dataset**"
      ],
      "metadata": {
        "id": "0Q8IBtdBALfM"
      }
    },
    {
      "cell_type": "code",
      "source": [
        "device = torch.device('cuda' if torch.cuda.is_available() else 'cpu')\n",
        "device"
      ],
      "metadata": {
        "colab": {
          "base_uri": "https://localhost:8080/"
        },
        "id": "yji5ZrAUAVB8",
        "outputId": "804616ef-5d90-4f56-8aff-510056f07772"
      },
      "execution_count": 8,
      "outputs": [
        {
          "output_type": "execute_result",
          "data": {
            "text/plain": [
              "device(type='cpu')"
            ]
          },
          "metadata": {},
          "execution_count": 8
        }
      ]
    },
    {
      "cell_type": "code",
      "source": [
        "#stop word removal\n",
        "import nltk\n",
        "nltk.download(\"stopwords\")\n",
        "\n",
        "from nltk.corpus import stopwords\n",
        "\", \".join(stopwords.words('english'))\n",
        "\n",
        "STOPWORDS = set(stopwords.words('english'))\n",
        "def remove_stopwords(text):\n",
        "    \"\"\"custom function to remove the stopwords\"\"\"\n",
        "    return \" \".join([word for word in str(text).split() if word not in STOPWORDS])\n",
        "\n",
        "df[\"Text\"] = df[\"Text\"].apply(lambda text: remove_stopwords(text))\n",
        "df.head()"
      ],
      "metadata": {
        "colab": {
          "base_uri": "https://localhost:8080/",
          "height": 241
        },
        "id": "rMDl04cfAZBA",
        "outputId": "8c56de98-e709-4168-8b5b-0aca9e54bc8b"
      },
      "execution_count": 9,
      "outputs": [
        {
          "output_type": "stream",
          "name": "stdout",
          "text": [
            "[nltk_data] Downloading package stopwords to /root/nltk_data...\n",
            "[nltk_data]   Package stopwords is already up-to-date!\n"
          ]
        },
        {
          "output_type": "execute_result",
          "data": {
            "text/html": [
              "\n",
              "  <div id=\"df-62504260-5ae1-48e1-ad94-f2414c8a0526\">\n",
              "    <div class=\"colab-df-container\">\n",
              "      <div>\n",
              "<style scoped>\n",
              "    .dataframe tbody tr th:only-of-type {\n",
              "        vertical-align: middle;\n",
              "    }\n",
              "\n",
              "    .dataframe tbody tr th {\n",
              "        vertical-align: top;\n",
              "    }\n",
              "\n",
              "    .dataframe thead th {\n",
              "        text-align: right;\n",
              "    }\n",
              "</style>\n",
              "<table border=\"1\" class=\"dataframe\">\n",
              "  <thead>\n",
              "    <tr style=\"text-align: right;\">\n",
              "      <th></th>\n",
              "      <th>Text</th>\n",
              "      <th>Sentiment</th>\n",
              "    </tr>\n",
              "  </thead>\n",
              "  <tbody>\n",
              "    <tr>\n",
              "      <th>0</th>\n",
              "      <td>Kickers watchlist XIDE TIT SOQ PNK CPW BPZ AJ ...</td>\n",
              "      <td>1</td>\n",
              "    </tr>\n",
              "    <tr>\n",
              "      <th>1</th>\n",
              "      <td>user: AAP MOVIE. 55% return FEA/GEED indicator...</td>\n",
              "      <td>1</td>\n",
              "    </tr>\n",
              "    <tr>\n",
              "      <th>2</th>\n",
              "      <td>user I'd afraid short AMZN - looking like near...</td>\n",
              "      <td>1</td>\n",
              "    </tr>\n",
              "    <tr>\n",
              "      <th>3</th>\n",
              "      <td>MNTA Over 12.00</td>\n",
              "      <td>1</td>\n",
              "    </tr>\n",
              "    <tr>\n",
              "      <th>4</th>\n",
              "      <td>OI Over 21.37</td>\n",
              "      <td>1</td>\n",
              "    </tr>\n",
              "  </tbody>\n",
              "</table>\n",
              "</div>\n",
              "      <button class=\"colab-df-convert\" onclick=\"convertToInteractive('df-62504260-5ae1-48e1-ad94-f2414c8a0526')\"\n",
              "              title=\"Convert this dataframe to an interactive table.\"\n",
              "              style=\"display:none;\">\n",
              "        \n",
              "  <svg xmlns=\"http://www.w3.org/2000/svg\" height=\"24px\"viewBox=\"0 0 24 24\"\n",
              "       width=\"24px\">\n",
              "    <path d=\"M0 0h24v24H0V0z\" fill=\"none\"/>\n",
              "    <path d=\"M18.56 5.44l.94 2.06.94-2.06 2.06-.94-2.06-.94-.94-2.06-.94 2.06-2.06.94zm-11 1L8.5 8.5l.94-2.06 2.06-.94-2.06-.94L8.5 2.5l-.94 2.06-2.06.94zm10 10l.94 2.06.94-2.06 2.06-.94-2.06-.94-.94-2.06-.94 2.06-2.06.94z\"/><path d=\"M17.41 7.96l-1.37-1.37c-.4-.4-.92-.59-1.43-.59-.52 0-1.04.2-1.43.59L10.3 9.45l-7.72 7.72c-.78.78-.78 2.05 0 2.83L4 21.41c.39.39.9.59 1.41.59.51 0 1.02-.2 1.41-.59l7.78-7.78 2.81-2.81c.8-.78.8-2.07 0-2.86zM5.41 20L4 18.59l7.72-7.72 1.47 1.35L5.41 20z\"/>\n",
              "  </svg>\n",
              "      </button>\n",
              "      \n",
              "  <style>\n",
              "    .colab-df-container {\n",
              "      display:flex;\n",
              "      flex-wrap:wrap;\n",
              "      gap: 12px;\n",
              "    }\n",
              "\n",
              "    .colab-df-convert {\n",
              "      background-color: #E8F0FE;\n",
              "      border: none;\n",
              "      border-radius: 50%;\n",
              "      cursor: pointer;\n",
              "      display: none;\n",
              "      fill: #1967D2;\n",
              "      height: 32px;\n",
              "      padding: 0 0 0 0;\n",
              "      width: 32px;\n",
              "    }\n",
              "\n",
              "    .colab-df-convert:hover {\n",
              "      background-color: #E2EBFA;\n",
              "      box-shadow: 0px 1px 2px rgba(60, 64, 67, 0.3), 0px 1px 3px 1px rgba(60, 64, 67, 0.15);\n",
              "      fill: #174EA6;\n",
              "    }\n",
              "\n",
              "    [theme=dark] .colab-df-convert {\n",
              "      background-color: #3B4455;\n",
              "      fill: #D2E3FC;\n",
              "    }\n",
              "\n",
              "    [theme=dark] .colab-df-convert:hover {\n",
              "      background-color: #434B5C;\n",
              "      box-shadow: 0px 1px 3px 1px rgba(0, 0, 0, 0.15);\n",
              "      filter: drop-shadow(0px 1px 2px rgba(0, 0, 0, 0.3));\n",
              "      fill: #FFFFFF;\n",
              "    }\n",
              "  </style>\n",
              "\n",
              "      <script>\n",
              "        const buttonEl =\n",
              "          document.querySelector('#df-62504260-5ae1-48e1-ad94-f2414c8a0526 button.colab-df-convert');\n",
              "        buttonEl.style.display =\n",
              "          google.colab.kernel.accessAllowed ? 'block' : 'none';\n",
              "\n",
              "        async function convertToInteractive(key) {\n",
              "          const element = document.querySelector('#df-62504260-5ae1-48e1-ad94-f2414c8a0526');\n",
              "          const dataTable =\n",
              "            await google.colab.kernel.invokeFunction('convertToInteractive',\n",
              "                                                     [key], {});\n",
              "          if (!dataTable) return;\n",
              "\n",
              "          const docLinkHtml = 'Like what you see? Visit the ' +\n",
              "            '<a target=\"_blank\" href=https://colab.research.google.com/notebooks/data_table.ipynb>data table notebook</a>'\n",
              "            + ' to learn more about interactive tables.';\n",
              "          element.innerHTML = '';\n",
              "          dataTable['output_type'] = 'display_data';\n",
              "          await google.colab.output.renderOutput(dataTable, element);\n",
              "          const docLink = document.createElement('div');\n",
              "          docLink.innerHTML = docLinkHtml;\n",
              "          element.appendChild(docLink);\n",
              "        }\n",
              "      </script>\n",
              "    </div>\n",
              "  </div>\n",
              "  "
            ],
            "text/plain": [
              "                                                Text  Sentiment\n",
              "0  Kickers watchlist XIDE TIT SOQ PNK CPW BPZ AJ ...          1\n",
              "1  user: AAP MOVIE. 55% return FEA/GEED indicator...          1\n",
              "2  user I'd afraid short AMZN - looking like near...          1\n",
              "3                                    MNTA Over 12.00          1\n",
              "4                                      OI Over 21.37          1"
            ]
          },
          "metadata": {},
          "execution_count": 9
        }
      ]
    },
    {
      "cell_type": "code",
      "source": [
        "#Stemming\n",
        "from nltk.stem.porter import PorterStemmer\n",
        "\n",
        "stemmer = PorterStemmer()\n",
        "def stem_words(text):\n",
        "    return \" \".join([stemmer.stem(word) for word in text.split()])\n",
        "\n",
        "df[\"Text\"] = df[\"Text\"].apply(lambda text: stem_words(text))\n",
        "df.head()"
      ],
      "metadata": {
        "colab": {
          "base_uri": "https://localhost:8080/",
          "height": 206
        },
        "id": "yVddrO5nBJ3z",
        "outputId": "ed46f74e-1573-418e-e340-e9973077d831"
      },
      "execution_count": 10,
      "outputs": [
        {
          "output_type": "execute_result",
          "data": {
            "text/html": [
              "\n",
              "  <div id=\"df-0f70bb74-8925-43d0-ac80-27f23786d26f\">\n",
              "    <div class=\"colab-df-container\">\n",
              "      <div>\n",
              "<style scoped>\n",
              "    .dataframe tbody tr th:only-of-type {\n",
              "        vertical-align: middle;\n",
              "    }\n",
              "\n",
              "    .dataframe tbody tr th {\n",
              "        vertical-align: top;\n",
              "    }\n",
              "\n",
              "    .dataframe thead th {\n",
              "        text-align: right;\n",
              "    }\n",
              "</style>\n",
              "<table border=\"1\" class=\"dataframe\">\n",
              "  <thead>\n",
              "    <tr style=\"text-align: right;\">\n",
              "      <th></th>\n",
              "      <th>Text</th>\n",
              "      <th>Sentiment</th>\n",
              "    </tr>\n",
              "  </thead>\n",
              "  <tbody>\n",
              "    <tr>\n",
              "      <th>0</th>\n",
              "      <td>kicker watchlist xide tit soq pnk cpw bpz AJ t...</td>\n",
              "      <td>1</td>\n",
              "    </tr>\n",
              "    <tr>\n",
              "      <th>1</th>\n",
              "      <td>user: aap movie. 55% return fea/ge indic 15 tr...</td>\n",
              "      <td>1</td>\n",
              "    </tr>\n",
              "    <tr>\n",
              "      <th>2</th>\n",
              "      <td>user i'd afraid short amzn - look like near-mo...</td>\n",
              "      <td>1</td>\n",
              "    </tr>\n",
              "    <tr>\n",
              "      <th>3</th>\n",
              "      <td>mnta over 12.00</td>\n",
              "      <td>1</td>\n",
              "    </tr>\n",
              "    <tr>\n",
              "      <th>4</th>\n",
              "      <td>OI over 21.37</td>\n",
              "      <td>1</td>\n",
              "    </tr>\n",
              "  </tbody>\n",
              "</table>\n",
              "</div>\n",
              "      <button class=\"colab-df-convert\" onclick=\"convertToInteractive('df-0f70bb74-8925-43d0-ac80-27f23786d26f')\"\n",
              "              title=\"Convert this dataframe to an interactive table.\"\n",
              "              style=\"display:none;\">\n",
              "        \n",
              "  <svg xmlns=\"http://www.w3.org/2000/svg\" height=\"24px\"viewBox=\"0 0 24 24\"\n",
              "       width=\"24px\">\n",
              "    <path d=\"M0 0h24v24H0V0z\" fill=\"none\"/>\n",
              "    <path d=\"M18.56 5.44l.94 2.06.94-2.06 2.06-.94-2.06-.94-.94-2.06-.94 2.06-2.06.94zm-11 1L8.5 8.5l.94-2.06 2.06-.94-2.06-.94L8.5 2.5l-.94 2.06-2.06.94zm10 10l.94 2.06.94-2.06 2.06-.94-2.06-.94-.94-2.06-.94 2.06-2.06.94z\"/><path d=\"M17.41 7.96l-1.37-1.37c-.4-.4-.92-.59-1.43-.59-.52 0-1.04.2-1.43.59L10.3 9.45l-7.72 7.72c-.78.78-.78 2.05 0 2.83L4 21.41c.39.39.9.59 1.41.59.51 0 1.02-.2 1.41-.59l7.78-7.78 2.81-2.81c.8-.78.8-2.07 0-2.86zM5.41 20L4 18.59l7.72-7.72 1.47 1.35L5.41 20z\"/>\n",
              "  </svg>\n",
              "      </button>\n",
              "      \n",
              "  <style>\n",
              "    .colab-df-container {\n",
              "      display:flex;\n",
              "      flex-wrap:wrap;\n",
              "      gap: 12px;\n",
              "    }\n",
              "\n",
              "    .colab-df-convert {\n",
              "      background-color: #E8F0FE;\n",
              "      border: none;\n",
              "      border-radius: 50%;\n",
              "      cursor: pointer;\n",
              "      display: none;\n",
              "      fill: #1967D2;\n",
              "      height: 32px;\n",
              "      padding: 0 0 0 0;\n",
              "      width: 32px;\n",
              "    }\n",
              "\n",
              "    .colab-df-convert:hover {\n",
              "      background-color: #E2EBFA;\n",
              "      box-shadow: 0px 1px 2px rgba(60, 64, 67, 0.3), 0px 1px 3px 1px rgba(60, 64, 67, 0.15);\n",
              "      fill: #174EA6;\n",
              "    }\n",
              "\n",
              "    [theme=dark] .colab-df-convert {\n",
              "      background-color: #3B4455;\n",
              "      fill: #D2E3FC;\n",
              "    }\n",
              "\n",
              "    [theme=dark] .colab-df-convert:hover {\n",
              "      background-color: #434B5C;\n",
              "      box-shadow: 0px 1px 3px 1px rgba(0, 0, 0, 0.15);\n",
              "      filter: drop-shadow(0px 1px 2px rgba(0, 0, 0, 0.3));\n",
              "      fill: #FFFFFF;\n",
              "    }\n",
              "  </style>\n",
              "\n",
              "      <script>\n",
              "        const buttonEl =\n",
              "          document.querySelector('#df-0f70bb74-8925-43d0-ac80-27f23786d26f button.colab-df-convert');\n",
              "        buttonEl.style.display =\n",
              "          google.colab.kernel.accessAllowed ? 'block' : 'none';\n",
              "\n",
              "        async function convertToInteractive(key) {\n",
              "          const element = document.querySelector('#df-0f70bb74-8925-43d0-ac80-27f23786d26f');\n",
              "          const dataTable =\n",
              "            await google.colab.kernel.invokeFunction('convertToInteractive',\n",
              "                                                     [key], {});\n",
              "          if (!dataTable) return;\n",
              "\n",
              "          const docLinkHtml = 'Like what you see? Visit the ' +\n",
              "            '<a target=\"_blank\" href=https://colab.research.google.com/notebooks/data_table.ipynb>data table notebook</a>'\n",
              "            + ' to learn more about interactive tables.';\n",
              "          element.innerHTML = '';\n",
              "          dataTable['output_type'] = 'display_data';\n",
              "          await google.colab.output.renderOutput(dataTable, element);\n",
              "          const docLink = document.createElement('div');\n",
              "          docLink.innerHTML = docLinkHtml;\n",
              "          element.appendChild(docLink);\n",
              "        }\n",
              "      </script>\n",
              "    </div>\n",
              "  </div>\n",
              "  "
            ],
            "text/plain": [
              "                                                Text  Sentiment\n",
              "0  kicker watchlist xide tit soq pnk cpw bpz AJ t...          1\n",
              "1  user: aap movie. 55% return fea/ge indic 15 tr...          1\n",
              "2  user i'd afraid short amzn - look like near-mo...          1\n",
              "3                                    mnta over 12.00          1\n",
              "4                                      OI over 21.37          1"
            ]
          },
          "metadata": {},
          "execution_count": 10
        }
      ]
    },
    {
      "cell_type": "code",
      "source": [
        "seed = 170204030\n",
        "torch.manual_seed(seed)"
      ],
      "metadata": {
        "colab": {
          "base_uri": "https://localhost:8080/"
        },
        "id": "op_3Xc2rBcEb",
        "outputId": "fde103df-b8f5-4990-9306-5c54f581994d"
      },
      "execution_count": 11,
      "outputs": [
        {
          "output_type": "execute_result",
          "data": {
            "text/plain": [
              "<torch._C.Generator at 0x7f3bb55f8170>"
            ]
          },
          "metadata": {},
          "execution_count": 11
        }
      ]
    },
    {
      "cell_type": "markdown",
      "source": [
        "# **Bag of words**"
      ],
      "metadata": {
        "id": "u-QKKpIpBpoB"
      }
    },
    {
      "cell_type": "code",
      "source": [
        "from sklearn.feature_extraction.text import CountVectorizer\n",
        "class Sequences(Dataset):\n",
        "    def __init__(self, data):\n",
        "        self.vectorizer = CountVectorizer()\n",
        "        self.sequences= self.vectorizer.fit_transform(data.Text.tolist())\n",
        "        self.labels=data.Sentiment.tolist()\n",
        "\n",
        "        self.token2idx=self.vectorizer.vocabulary_\n",
        "        self.idx2token={idx: token for token, idx in self.token2idx.items()}\n",
        "    def __getitem__(self, i):\n",
        "        return self.sequences[i, :].toarray(), self.labels[i]\n",
        "    \n",
        "    def __len__(self):\n",
        "        return self.sequences.shape[0]"
      ],
      "metadata": {
        "id": "vQbVi2IdBwlX"
      },
      "execution_count": 12,
      "outputs": []
    },
    {
      "cell_type": "code",
      "source": [
        "df.columns=[\"Text\", \"Sentiment\"]\n",
        "df_train=df.head(5000)\n",
        "df_test=df.tail(790)\n",
        "\n",
        "dataset=Sequences(df_train)\n",
        "train_loader=DataLoader(dataset,batch_size=5000)"
      ],
      "metadata": {
        "id": "81Ou6CWrDNvn"
      },
      "execution_count": 13,
      "outputs": []
    },
    {
      "cell_type": "code",
      "source": [
        "class NeuralNetwork(nn.Module):\n",
        "    def __init__(self, vocab_size,hidden1,hidden2):\n",
        "        super().__init__()\n",
        "        self.linear_1=nn.Linear(vocab_size, hidden1)\n",
        "        self.relu1=nn.ReLU()\n",
        "\n",
        "        self.linear_2=nn.Linear(hidden1, hidden2)\n",
        "        self.relu2=nn.ReLU()\n",
        "\n",
        "        self.linear_out=nn.Linear(hidden2,1)\n",
        "    def forward(self, inputs):\n",
        "        out= self.linear_1(inputs.squeeze(1).float())\n",
        "        out=self.relu1(out)\n",
        "        \n",
        "        out=self.linear_2(out)\n",
        "        out=self.relu2(out)\n",
        "        logits = self.linear_out(out)\n",
        "        return F.log_softmax(logits, dim=1)\n",
        "\n",
        "NNmodel= NeuralNetwork(len(dataset.token2idx), 512, 512)\n",
        "NNmodel\n",
        "\n",
        "optimizer=torch.optim.Adam(NNmodel.parameters(), lr=0.1)\n",
        "criterion=nn.BCEWithLogitsLoss()"
      ],
      "metadata": {
        "id": "b77-jiq7EXZr"
      },
      "execution_count": 14,
      "outputs": []
    },
    {
      "cell_type": "code",
      "source": [
        "EPOCHS = 20\n",
        "Avg_loss = 0\n",
        "epoch_loss =[]\n",
        "\n",
        "for epoch in range(EPOCHS):\n",
        "    for inputs,target in train_loader:\n",
        "        target=target.view(5000, -1)\n",
        "        NNmodel.zero_grad()\n",
        "        logs = NNmodel(inputs)\n",
        "        loss = criterion(logs,target.float())\n",
        "        loss.backward()\n",
        "        optimizer.step()\n",
        "        \n",
        "    epoch_loss.append(loss.item())\n",
        "    Avg_loss += loss.item()\n",
        "    print('epoch: {}. Loss: {}'.format(epoch+1, loss.item()))\n",
        "    \n",
        "print('\\nAverage Loss: ',Avg_loss/EPOCHS)"
      ],
      "metadata": {
        "colab": {
          "base_uri": "https://localhost:8080/"
        },
        "id": "JLOImUB5Et_b",
        "outputId": "e6f2c2f8-3cd2-4c8c-f1b7-b05fc79811c2"
      },
      "execution_count": 28,
      "outputs": [
        {
          "output_type": "stream",
          "name": "stdout",
          "text": [
            "epoch: 1. Loss: 0.6931472420692444\n",
            "epoch: 2. Loss: 0.6931472420692444\n",
            "epoch: 3. Loss: 0.6931472420692444\n",
            "epoch: 4. Loss: 0.6931472420692444\n",
            "epoch: 5. Loss: 0.6931472420692444\n",
            "epoch: 6. Loss: 0.6931472420692444\n",
            "epoch: 7. Loss: 0.6931472420692444\n",
            "epoch: 8. Loss: 0.6931472420692444\n",
            "epoch: 9. Loss: 0.6931472420692444\n",
            "epoch: 10. Loss: 0.6931472420692444\n",
            "epoch: 11. Loss: 0.6931472420692444\n",
            "epoch: 12. Loss: 0.6931472420692444\n",
            "epoch: 13. Loss: 0.6931472420692444\n",
            "epoch: 14. Loss: 0.6931472420692444\n",
            "epoch: 15. Loss: 0.6931472420692444\n",
            "epoch: 16. Loss: 0.6931472420692444\n",
            "epoch: 17. Loss: 0.6931472420692444\n",
            "epoch: 18. Loss: 0.6931472420692444\n",
            "epoch: 19. Loss: 0.6931472420692444\n",
            "epoch: 20. Loss: 0.6931472420692444\n",
            "\n",
            "Average Loss:  0.6931472420692444\n"
          ]
        }
      ]
    },
    {
      "cell_type": "code",
      "source": [
        "from sklearn.metrics import accuracy_score\n",
        "\n",
        "def predict_sentiment(text):\n",
        "    test_vector=torch.LongTensor(dataset.vectorizer.transform([text]).toarray())\n",
        "    output= NNmodel(test_vector.float())\n",
        "    prediction=torch.sigmoid(output).item()\n",
        "    if prediction>0.5:\n",
        "        return 1\n",
        "    else:\n",
        "        return -1\n",
        "\n",
        "pred_labels=[]\n",
        "sentences=list(df_test['Text'])\n",
        "labels=df_test['Sentiment']\n",
        "#print(sentences)\n",
        "for sentence in sentences:\n",
        "    pred_labels.append(predict_sentiment(sentence))\n",
        "#accuracy\n",
        "accuracy=accuracy_score(labels,pred_labels)\n",
        "accuracy=accuracy*100\n",
        "print('Accuracy: %f'% accuracy)"
      ],
      "metadata": {
        "colab": {
          "base_uri": "https://localhost:8080/"
        },
        "id": "sCY3npaEGC2q",
        "outputId": "5907eb27-255f-4693-f901-227f203086fb"
      },
      "execution_count": 17,
      "outputs": [
        {
          "output_type": "stream",
          "name": "stdout",
          "text": [
            "Accuracy: 57.848101\n"
          ]
        }
      ]
    },
    {
      "cell_type": "code",
      "source": [
        "from sklearn.metrics import precision_score\n",
        "from sklearn.metrics import recall_score\n",
        "from sklearn.metrics import f1_score\n",
        "from sklearn import metrics\n",
        "\n",
        "conf = metrics.confusion_matrix(labels, pred_labels)\n",
        "metrics.ConfusionMatrixDisplay(conf).plot()\n",
        "print ('Accuracy: ', metrics.accuracy_score(labels, pred_labels)*100)\n",
        "\n",
        "recall=recall_score(labels,pred_labels,average=\"binary\")\n",
        "recall = recall*100\n",
        "print('Recall %.3f'%recall)\n",
        "\n",
        "precision=precision_score(labels,pred_labels,average=\"binary\")\n",
        "precision = precision*100\n",
        "print('precision %.3f'%precision)\n",
        "\n",
        "f1=f1_score(labels,pred_labels,average=\"binary\")\n",
        "f1 = f1*100\n",
        "print('f1_score %.3f'%f1)\n",
        "print()\n",
        "print (metrics.classification_report(labels, pred_labels))\n",
        "\n",
        "plt.show()"
      ],
      "metadata": {
        "colab": {
          "base_uri": "https://localhost:8080/",
          "height": 681
        },
        "id": "G68xyqZqJyeW",
        "outputId": "777dc90b-503a-4e93-95fa-66e7dc329b46"
      },
      "execution_count": 18,
      "outputs": [
        {
          "output_type": "stream",
          "name": "stdout",
          "text": [
            "Accuracy:  57.848101265822784\n",
            "Recall 0.000\n",
            "precision 0.000\n",
            "f1_score 0.000\n",
            "\n",
            "              precision    recall  f1-score   support\n",
            "\n",
            "          -1       0.58      1.00      0.73       457\n",
            "           1       0.00      0.00      0.00       333\n",
            "\n",
            "    accuracy                           0.58       790\n",
            "   macro avg       0.29      0.50      0.37       790\n",
            "weighted avg       0.33      0.58      0.42       790\n",
            "\n"
          ]
        },
        {
          "output_type": "stream",
          "name": "stderr",
          "text": [
            "/usr/local/lib/python3.7/dist-packages/sklearn/metrics/_classification.py:1318: UndefinedMetricWarning: Precision is ill-defined and being set to 0.0 due to no predicted samples. Use `zero_division` parameter to control this behavior.\n",
            "  _warn_prf(average, modifier, msg_start, len(result))\n",
            "/usr/local/lib/python3.7/dist-packages/sklearn/metrics/_classification.py:1318: UndefinedMetricWarning: Precision and F-score are ill-defined and being set to 0.0 in labels with no predicted samples. Use `zero_division` parameter to control this behavior.\n",
            "  _warn_prf(average, modifier, msg_start, len(result))\n",
            "/usr/local/lib/python3.7/dist-packages/sklearn/metrics/_classification.py:1318: UndefinedMetricWarning: Precision and F-score are ill-defined and being set to 0.0 in labels with no predicted samples. Use `zero_division` parameter to control this behavior.\n",
            "  _warn_prf(average, modifier, msg_start, len(result))\n",
            "/usr/local/lib/python3.7/dist-packages/sklearn/metrics/_classification.py:1318: UndefinedMetricWarning: Precision and F-score are ill-defined and being set to 0.0 in labels with no predicted samples. Use `zero_division` parameter to control this behavior.\n",
            "  _warn_prf(average, modifier, msg_start, len(result))\n"
          ]
        },
        {
          "output_type": "display_data",
          "data": {
            "image/png": "[encoded data removed]",
            "text/plain": [
              "<Figure size 432x288 with 2 Axes>"
            ]
          },
          "metadata": {
            "needs_background": "light"
          }
        }
      ]
    },
    {
      "cell_type": "markdown",
      "source": [
        "# **TF-IDF**"
      ],
      "metadata": {
        "id": "_8FFCbSgK6KO"
      }
    },
    {
      "cell_type": "code",
      "source": [
        "class Sequences(Dataset):\n",
        "    def __init__(self, data):\n",
        "        self.vectorizer = TfidfVectorizer()\n",
        "        self.sequences= self.vectorizer.fit_transform(data.Text.tolist())\n",
        "        self.labels=data.Sentiment.tolist()\n",
        "\n",
        "        self.token2idx=self.vectorizer.vocabulary_\n",
        "        self.idx2token={idx: token for token, idx in self.token2idx.items()}\n",
        "    def __getitem__(self, i):\n",
        "        return self.sequences[i, :].toarray(), self.labels[i]\n",
        "    \n",
        "    def __len__(self):\n",
        "        return self.sequences.shape[0]"
      ],
      "metadata": {
        "id": "KuclL2XRK_3M"
      },
      "execution_count": 19,
      "outputs": []
    },
    {
      "cell_type": "code",
      "source": [
        "#batch_size = 10\n",
        "df.columns=[\"Text\", \"Sentiment\"]\n",
        "df_train=df.head(5000)\n",
        "df_test=df.tail(790)\n",
        "\n",
        "dataset=Sequences(df_train)\n",
        "train_loader=DataLoader(dataset,batch_size=5000)"
      ],
      "metadata": {
        "id": "fr_uEUtfL02T"
      },
      "execution_count": 20,
      "outputs": []
    },
    {
      "cell_type": "code",
      "source": [
        "class NeuralNetwork(nn.Module):\n",
        "    def __init__(self, vocab_size,hidden1,hidden2):\n",
        "        super().__init__()\n",
        "        self.linear_1=nn.Linear(vocab_size, hidden1)\n",
        "        self.relu1=nn.ReLU()\n",
        "\n",
        "        self.linear_2=nn.Linear(hidden1, hidden2)\n",
        "        self.relu2=nn.ReLU()\n",
        "\n",
        "        self.linear_out=nn.Linear(hidden2,1)\n",
        "    def forward(self, inputs):\n",
        "        out= self.linear_1(inputs.squeeze(1).float())\n",
        "        out=self.relu1(out)\n",
        "        \n",
        "        out=self.linear_2(out)\n",
        "        out=self.relu2(out)\n",
        "        logits = self.linear_out(out)\n",
        "        return F.log_softmax(logits, dim=1)\n",
        "\n",
        "NNmodel= NeuralNetwork(len(dataset.token2idx), 512, 512)\n",
        "NNmodel\n",
        "\n",
        "optimizer=torch.optim.Adam(NNmodel.parameters(), lr=0.1)\n",
        "criterion=nn.BCEWithLogitsLoss()"
      ],
      "metadata": {
        "id": "TOQFNIGvL9qW"
      },
      "execution_count": 21,
      "outputs": []
    },
    {
      "cell_type": "code",
      "source": [
        "EPOCHS = 20\n",
        "Avg_loss = 0\n",
        "epoch_loss =[]\n",
        "\n",
        "for epoch in range(EPOCHS):\n",
        "    for inputs,target in train_loader:\n",
        "        target=target.view(5000, -1)\n",
        "        optimizer.zero_grad()\n",
        "        logs = NNmodel(inputs)\n",
        "        loss = criterion(logs,target.float())\n",
        "        loss.backward()\n",
        "        optimizer.step()\n",
        "        \n",
        "    epoch_loss.append(loss.item())\n",
        "    Avg_loss += loss.item()\n",
        "    print('epoch: {}. Loss: {}'.format(epoch+1, loss.item()))\n",
        "    \n",
        "print('\\nAverage Loss: ',Avg_loss/EPOCHS)"
      ],
      "metadata": {
        "colab": {
          "base_uri": "https://localhost:8080/"
        },
        "id": "BLKfkG97MEWw",
        "outputId": "b2779fe3-1741-42f6-b7b9-fd40ddbc9f1d"
      },
      "execution_count": 22,
      "outputs": [
        {
          "output_type": "stream",
          "name": "stdout",
          "text": [
            "epoch: 1. Loss: 0.6931472420692444\n",
            "epoch: 2. Loss: 0.6931472420692444\n",
            "epoch: 3. Loss: 0.6931472420692444\n",
            "epoch: 4. Loss: 0.6931472420692444\n",
            "epoch: 5. Loss: 0.6931472420692444\n",
            "epoch: 6. Loss: 0.6931472420692444\n",
            "epoch: 7. Loss: 0.6931472420692444\n",
            "epoch: 8. Loss: 0.6931472420692444\n",
            "epoch: 9. Loss: 0.6931472420692444\n",
            "epoch: 10. Loss: 0.6931472420692444\n",
            "epoch: 11. Loss: 0.6931472420692444\n",
            "epoch: 12. Loss: 0.6931472420692444\n",
            "epoch: 13. Loss: 0.6931472420692444\n",
            "epoch: 14. Loss: 0.6931472420692444\n",
            "epoch: 15. Loss: 0.6931472420692444\n",
            "epoch: 16. Loss: 0.6931472420692444\n",
            "epoch: 17. Loss: 0.6931472420692444\n",
            "epoch: 18. Loss: 0.6931472420692444\n",
            "epoch: 19. Loss: 0.6931472420692444\n",
            "epoch: 20. Loss: 0.6931472420692444\n",
            "\n",
            "Average Loss:  0.6931472420692444\n"
          ]
        }
      ]
    },
    {
      "cell_type": "code",
      "source": [
        "from sklearn.metrics import accuracy_score\n",
        "\n",
        "def predict_sentiment(text):\n",
        "    test_vector=torch.LongTensor(dataset.vectorizer.transform([text]).toarray())\n",
        "    output= NNmodel(test_vector.float())\n",
        "    prediction=torch.sigmoid(output).item()\n",
        "    if prediction>0.5:\n",
        "        return 1\n",
        "    else:\n",
        "        return -1\n",
        "\n",
        "pred_labels=[]\n",
        "sentences=list(df_test['Text'])\n",
        "labels=df_test['Sentiment']\n",
        "#print(sentences)\n",
        "for sentence in sentences:\n",
        "    pred_labels.append(predict_sentiment(sentence))\n",
        "#accuracy\n",
        "accuracy=accuracy_score(labels,pred_labels)\n",
        "accuracy=accuracy*100\n",
        "print('Accuracy: %f'% accuracy)"
      ],
      "metadata": {
        "colab": {
          "base_uri": "https://localhost:8080/"
        },
        "id": "RGoRZdKhMQLv",
        "outputId": "51c56c64-969a-40bd-e12b-153dc9f98907"
      },
      "execution_count": 24,
      "outputs": [
        {
          "output_type": "stream",
          "name": "stdout",
          "text": [
            "Accuracy: 57.848101\n"
          ]
        }
      ]
    },
    {
      "cell_type": "code",
      "source": [
        "from sklearn.metrics import precision_score\n",
        "from sklearn.metrics import recall_score\n",
        "from sklearn.metrics import f1_score\n",
        "from sklearn import metrics\n",
        "\n",
        "conf = metrics.confusion_matrix(labels, pred_labels)\n",
        "metrics.ConfusionMatrixDisplay(conf).plot()\n",
        "print ('Accuracy: ', metrics.accuracy_score(labels, pred_labels)*100)\n",
        "\n",
        "recall=recall_score(labels,pred_labels,average=\"binary\")\n",
        "recall = recall*100\n",
        "print('Recall %.3f'%recall)\n",
        "\n",
        "precision=precision_score(labels,pred_labels,average=\"binary\")\n",
        "precision = precision*100\n",
        "print('precision %.3f'%precision)\n",
        "\n",
        "f1=f1_score(labels,pred_labels,average=\"binary\")\n",
        "f1 = f1*100\n",
        "print('f1_score %.3f'%f1)\n",
        "print()\n",
        "print (metrics.classification_report(labels, pred_labels))\n",
        "\n",
        "plt.show()"
      ],
      "metadata": {
        "colab": {
          "base_uri": "https://localhost:8080/",
          "height": 681
        },
        "id": "U2h3YiwdMfwC",
        "outputId": "38f92b35-e53c-4582-ed6b-6bd78c7b7853"
      },
      "execution_count": 51,
      "outputs": [
        {
          "output_type": "stream",
          "name": "stdout",
          "text": [
            "Accuracy:  57.848101265822784\n",
            "Recall 0.000\n",
            "precision 0.000\n",
            "f1_score 0.000\n",
            "\n",
            "              precision    recall  f1-score   support\n",
            "\n",
            "          -1       0.58      1.00      0.73       457\n",
            "           1       0.00      0.00      0.00       333\n",
            "\n",
            "    accuracy                           0.58       790\n",
            "   macro avg       0.29      0.50      0.37       790\n",
            "weighted avg       0.33      0.58      0.42       790\n",
            "\n"
          ]
        },
        {
          "output_type": "stream",
          "name": "stderr",
          "text": [
            "/usr/local/lib/python3.7/dist-packages/sklearn/metrics/_classification.py:1318: UndefinedMetricWarning: Precision is ill-defined and being set to 0.0 due to no predicted samples. Use `zero_division` parameter to control this behavior.\n",
            "  _warn_prf(average, modifier, msg_start, len(result))\n",
            "/usr/local/lib/python3.7/dist-packages/sklearn/metrics/_classification.py:1318: UndefinedMetricWarning: Precision and F-score are ill-defined and being set to 0.0 in labels with no predicted samples. Use `zero_division` parameter to control this behavior.\n",
            "  _warn_prf(average, modifier, msg_start, len(result))\n",
            "/usr/local/lib/python3.7/dist-packages/sklearn/metrics/_classification.py:1318: UndefinedMetricWarning: Precision and F-score are ill-defined and being set to 0.0 in labels with no predicted samples. Use `zero_division` parameter to control this behavior.\n",
            "  _warn_prf(average, modifier, msg_start, len(result))\n",
            "/usr/local/lib/python3.7/dist-packages/sklearn/metrics/_classification.py:1318: UndefinedMetricWarning: Precision and F-score are ill-defined and being set to 0.0 in labels with no predicted samples. Use `zero_division` parameter to control this behavior.\n",
            "  _warn_prf(average, modifier, msg_start, len(result))\n"
          ]
        },
        {
          "output_type": "display_data",
          "data": {
            "image/png": "[encoded data removed]",
            "text/plain": [
              "<Figure size 432x288 with 2 Axes>"
            ]
          },
          "metadata": {
            "needs_background": "light"
          }
        }
      ]
    },
    {
      "cell_type": "markdown",
      "source": [
        "# **One hot embedding using CNN**"
      ],
      "metadata": {
        "id": "wnFC9n8XMxLA"
      }
    },
    {
      "cell_type": "code",
      "source": [
        "from sklearn.model_selection import train_test_split\n",
        "from keras.preprocessing.sequence import pad_sequences\n",
        "from keras.preprocessing.text import Tokenizer\n",
        "\n",
        "df = df.sample(frac = 1)\n",
        "x = df['Text'].values\n",
        "y = df['Sentiment'].values\n",
        "x_train, x_test, y_train, y_test = train_test_split(x, y, test_size=0.20, random_state=seed)\n",
        "\n",
        "tokenizer = Tokenizer()\n",
        "tokenizer.fit_on_texts(x_train)\n",
        "\n",
        "data_train = pad_sequences(tokenizer.texts_to_sequences(x_train), padding='post', maxlen=200)\n",
        "data_test = pad_sequences(tokenizer.texts_to_sequences(x_test), padding='post', maxlen=200)"
      ],
      "metadata": {
        "id": "yV5yZcqYN2lV"
      },
      "execution_count": 29,
      "outputs": []
    },
    {
      "cell_type": "code",
      "source": [
        "from keras.models import Sequential\n",
        "from keras import layers \n",
        "\n",
        "v_size = len(tokenizer.word_index)+1\n",
        "embedding_dim = 200\n",
        "\n",
        "CNNmodel = Sequential()\n",
        "CNNmodel.add(layers.Embedding(v_size, embedding_dim, input_length=200))\n",
        "CNNmodel.add(layers.Conv1D(filters=512, kernel_size=2, activation='relu'))\n",
        "CNNmodel.add(layers.MaxPooling1D(pool_size=2))\n",
        "\n",
        "CNNmodel.add(layers.Conv1D(filters=256, kernel_size=3, activation='relu'))\n",
        "CNNmodel.add(layers.MaxPooling1D(pool_size=2))\n",
        "\n",
        "CNNmodel.add(layers.Conv1D(filters=128, kernel_size=4, activation='relu'))\n",
        "CNNmodel.add(layers.GlobalMaxPooling1D())\n",
        "\n",
        "CNNmodel.add(layers.Flatten())\n",
        "CNNmodel.add(layers.Dense(64, activation='relu'))\n",
        "CNNmodel.add(layers.Dense(1, activation='sigmoid'))\n",
        "\n",
        "CNNmodel.compile(optimizer='adam',\n",
        "              loss='binary_crossentropy',\n",
        "              metrics=['accuracy'])"
      ],
      "metadata": {
        "id": "gzTUE2ICRejZ"
      },
      "execution_count": 30,
      "outputs": []
    },
    {
      "cell_type": "code",
      "source": [
        "EPOCHS = 20\n",
        "history = CNNmodel.fit(data_train, y_train,\n",
        "                    epochs=EPOCHS,\n",
        "                    verbose=True,\n",
        "                    validation_data=(data_test, y_test),\n",
        "                    batch_size=10)\n",
        "loss, accuracy = CNNmodel.evaluate(data_train, y_train, verbose=False)\n",
        "print(\"Training Accuracy: {:.3f}\".format(accuracy))\n",
        "loss, accuracy = CNNmodel.evaluate(data_test, y_test, verbose=False)\n",
        "print(\"Testing Accuracy:  {:.3f}\".format(accuracy))"
      ],
      "metadata": {
        "colab": {
          "base_uri": "https://localhost:8080/"
        },
        "id": "YMzU7oc0UCYr",
        "outputId": "727755ee-9942-437a-9dfd-cd0b814f1dce"
      },
      "execution_count": 31,
      "outputs": [
        {
          "output_type": "stream",
          "name": "stdout",
          "text": [
            "Epoch 1/20\n",
            "464/464 [==============================] - 82s 170ms/step - loss: -2240447.0000 - accuracy: 0.1967 - val_loss: -15095467.0000 - val_accuracy: 0.2752\n",
            "Epoch 2/20\n",
            "464/464 [==============================] - 77s 166ms/step - loss: -1478038016.0000 - accuracy: 0.2342 - val_loss: -3844878848.0000 - val_accuracy: 0.2916\n",
            "Epoch 3/20\n",
            "464/464 [==============================] - 77s 167ms/step - loss: -37392789504.0000 - accuracy: 0.2580 - val_loss: -53761974272.0000 - val_accuracy: 0.0000e+00\n",
            "Epoch 4/20\n",
            "464/464 [==============================] - 76s 164ms/step - loss: -340536131584.0000 - accuracy: 0.2563 - val_loss: -385796243456.0000 - val_accuracy: 0.2545\n",
            "Epoch 5/20\n",
            "464/464 [==============================] - 76s 164ms/step - loss: -1553950048256.0000 - accuracy: 0.2604 - val_loss: -1391538339840.0000 - val_accuracy: 0.2269\n",
            "Epoch 6/20\n",
            "464/464 [==============================] - 75s 163ms/step - loss: -5014674735104.0000 - accuracy: 0.2640 - val_loss: -3931011022848.0000 - val_accuracy: 0.2278\n",
            "Epoch 7/20\n",
            "464/464 [==============================] - 76s 164ms/step - loss: -12856740282368.0000 - accuracy: 0.2645 - val_loss: -9135020048384.0000 - val_accuracy: 0.2243\n",
            "Epoch 8/20\n",
            "464/464 [==============================] - 76s 163ms/step - loss: -27787998003200.0000 - accuracy: 0.2642 - val_loss: -18231939039232.0000 - val_accuracy: 0.2295\n",
            "Epoch 9/20\n",
            "464/464 [==============================] - 77s 165ms/step - loss: -53421038108672.0000 - accuracy: 0.2651 - val_loss: -33324607209472.0000 - val_accuracy: 0.2217\n",
            "Epoch 10/20\n",
            "464/464 [==============================] - 77s 166ms/step - loss: -95094367584256.0000 - accuracy: 0.2718 - val_loss: -56355524182016.0000 - val_accuracy: 0.2209\n",
            "Epoch 11/20\n",
            "464/464 [==============================] - 77s 166ms/step - loss: -158118415695872.0000 - accuracy: 0.2684 - val_loss: -90472429125632.0000 - val_accuracy: 0.2200\n",
            "Epoch 12/20\n",
            "464/464 [==============================] - 77s 167ms/step - loss: -251527075725312.0000 - accuracy: 0.2750 - val_loss: -139812828872704.0000 - val_accuracy: 0.2123\n",
            "Epoch 13/20\n",
            "464/464 [==============================] - 77s 165ms/step - loss: -383070146396160.0000 - accuracy: 0.2688 - val_loss: -207606622715904.0000 - val_accuracy: 0.2235\n",
            "Epoch 14/20\n",
            "464/464 [==============================] - 77s 166ms/step - loss: -559066766114816.0000 - accuracy: 0.2673 - val_loss: -295640080842752.0000 - val_accuracy: 0.2148\n",
            "Epoch 15/20\n",
            "464/464 [==============================] - 77s 165ms/step - loss: -795116289654784.0000 - accuracy: 0.2709 - val_loss: -414766434615296.0000 - val_accuracy: 0.2148\n",
            "Epoch 16/20\n",
            "464/464 [==============================] - 76s 165ms/step - loss: -1104144219766784.0000 - accuracy: 0.2658 - val_loss: -564668007448576.0000 - val_accuracy: 0.2166\n",
            "Epoch 17/20\n",
            "464/464 [==============================] - 77s 167ms/step - loss: -1501127040303104.0000 - accuracy: 0.2740 - val_loss: -757864025030656.0000 - val_accuracy: 0.2148\n",
            "Epoch 18/20\n",
            "464/464 [==============================] - 78s 168ms/step - loss: -2004038182764544.0000 - accuracy: 0.2720 - val_loss: -998728206909440.0000 - val_accuracy: 0.2157\n",
            "Epoch 19/20\n",
            "464/464 [==============================] - 94s 203ms/step - loss: -2624234144661504.0000 - accuracy: 0.2662 - val_loss: -1295395288252416.0000 - val_accuracy: 0.2123\n",
            "Epoch 20/20\n",
            "464/464 [==============================] - 77s 165ms/step - loss: -3374765452558336.0000 - accuracy: 0.2828 - val_loss: -1638854293454848.0000 - val_accuracy: 0.2097\n",
            "Training Accuracy: 0.286\n",
            "Testing Accuracy:  0.210\n"
          ]
        }
      ]
    },
    {
      "cell_type": "code",
      "source": [
        "import matplotlib.pyplot as plt\n",
        "def plot_graphs(history, string):\n",
        "  plt.plot(history.history[string])\n",
        "  plt.plot(history.history['val_'+string])\n",
        "  plt.xlabel(\"Epochs\")\n",
        "  plt.ylabel(string)\n",
        "  plt.legend([string, 'val_'+string])\n",
        "  plt.show()\n",
        "\n",
        "plot_graphs(history, 'accuracy')\n",
        "plot_graphs(history, 'loss')"
      ],
      "metadata": {
        "colab": {
          "base_uri": "https://localhost:8080/",
          "height": 552
        },
        "id": "bRvjGCgZpRYK",
        "outputId": "6b451bb0-ed67-4222-81e3-a6252011697b"
      },
      "execution_count": 38,
      "outputs": [
        {
          "output_type": "display_data",
          "data": {
            "image/png": "[encoded data removed]",
            "text/plain": [
              "<Figure size 432x288 with 1 Axes>"
            ]
          },
          "metadata": {
            "needs_background": "light"
          }
        },
        {
          "output_type": "display_data",
          "data": {
            "image/png": "[encoded data removed]",
            "text/plain": [
              "<Figure size 432x288 with 1 Axes>"
            ]
          },
          "metadata": {
            "needs_background": "light"
          }
        }
      ]
    }
  ]
}